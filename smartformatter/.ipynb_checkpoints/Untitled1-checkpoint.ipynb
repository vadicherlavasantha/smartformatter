{
 "cells": [
  {
   "cell_type": "code",
   "execution_count": 1,
   "id": "b77bfe4f-cf00-42ed-b6b8-16713a527b26",
   "metadata": {},
   "outputs": [],
   "source": [
    "from smartformatter.core import format_name , format_currency"
   ]
  },
  {
   "cell_type": "code",
   "execution_count": 2,
   "id": "ad9ef55a-3466-4808-a6eb-2e13a53c9358",
   "metadata": {},
   "outputs": [],
   "source": [
    "import smartformatter.__init__"
   ]
  },
  {
   "cell_type": "code",
   "execution_count": 3,
   "id": "e544567e-5530-4ede-9658-eff2de1ca99c",
   "metadata": {},
   "outputs": [
    {
     "data": {
      "text/plain": [
       "'Vasantha'"
      ]
     },
     "execution_count": 3,
     "metadata": {},
     "output_type": "execute_result"
    }
   ],
   "source": [
    "format_name(\"vasantha\")"
   ]
  },
  {
   "cell_type": "code",
   "execution_count": 4,
   "id": "08a9c6bf-8dba-48ec-9890-9b36d614f3f5",
   "metadata": {},
   "outputs": [
    {
     "name": "stderr",
     "output_type": "stream",
     "text": [
      "INFO: Could not find files for the given pattern(s).\n"
     ]
    }
   ],
   "source": [
    "!where smartformatter"
   ]
  },
  {
   "cell_type": "code",
   "execution_count": 5,
   "id": "e9e616fa-5d42-4606-9647-732cf2451e95",
   "metadata": {},
   "outputs": [
    {
     "data": {
      "text/plain": [
       "'$0.25'"
      ]
     },
     "execution_count": 5,
     "metadata": {},
     "output_type": "execute_result"
    }
   ],
   "source": [
    "format_currency(0.25)"
   ]
  },
  {
   "cell_type": "code",
   "execution_count": 6,
   "id": "6ab59470-2d6c-470c-a378-17a81c011e19",
   "metadata": {},
   "outputs": [],
   "source": [
    "import smartformatter.core"
   ]
  },
  {
   "cell_type": "code",
   "execution_count": null,
   "id": "f4a1ee6a-2ba8-4767-a9af-2c58a60f82be",
   "metadata": {},
   "outputs": [],
   "source": []
  }
 ],
 "metadata": {
  "kernelspec": {
   "display_name": "Python [conda env:base] *",
   "language": "python",
   "name": "conda-base-py"
  },
  "language_info": {
   "codemirror_mode": {
    "name": "ipython",
    "version": 3
   },
   "file_extension": ".py",
   "mimetype": "text/x-python",
   "name": "python",
   "nbconvert_exporter": "python",
   "pygments_lexer": "ipython3",
   "version": "3.12.7"
  }
 },
 "nbformat": 4,
 "nbformat_minor": 5
}
