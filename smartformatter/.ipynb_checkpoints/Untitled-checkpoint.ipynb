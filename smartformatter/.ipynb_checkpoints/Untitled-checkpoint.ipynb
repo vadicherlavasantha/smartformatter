{
 "cells": [
  {
   "cell_type": "code",
   "execution_count": 3,
   "id": "25419d43-fe8c-4340-b9e5-0433b9b2d688",
   "metadata": {},
   "outputs": [],
   "source": [
    "from smartformatter.core import format_currency"
   ]
  },
  {
   "cell_type": "code",
   "execution_count": 4,
   "id": "2eb70c44-8622-4465-a9b8-d5b6ecdb9dba",
   "metadata": {},
   "outputs": [
    {
     "data": {
      "text/plain": [
       "'$0.25'"
      ]
     },
     "execution_count": 4,
     "metadata": {},
     "output_type": "execute_result"
    }
   ],
   "source": [
    "format_currency(0.25)"
   ]
  },
  {
   "cell_type": "code",
   "execution_count": 5,
   "id": "877e216d-bf86-486a-8dda-b8a821ad5038",
   "metadata": {},
   "outputs": [
    {
     "name": "stderr",
     "output_type": "stream",
     "text": [
      "INFO: Could not find files for the given pattern(s).\n"
     ]
    }
   ],
   "source": [
    "!where smartformatter"
   ]
  },
  {
   "cell_type": "code",
   "execution_count": null,
   "id": "151e0537-6b0b-4f95-a06a-6afe5a6edbde",
   "metadata": {},
   "outputs": [],
   "source": []
  }
 ],
 "metadata": {
  "kernelspec": {
   "display_name": "Python [conda env:base] *",
   "language": "python",
   "name": "conda-base-py"
  },
  "language_info": {
   "codemirror_mode": {
    "name": "ipython",
    "version": 3
   },
   "file_extension": ".py",
   "mimetype": "text/x-python",
   "name": "python",
   "nbconvert_exporter": "python",
   "pygments_lexer": "ipython3",
   "version": "3.12.7"
  }
 },
 "nbformat": 4,
 "nbformat_minor": 5
}
